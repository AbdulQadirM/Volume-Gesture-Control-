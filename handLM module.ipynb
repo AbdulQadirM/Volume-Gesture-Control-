{
 "cells": [
  {
   "attachments": {},
   "cell_type": "markdown",
   "metadata": {},
   "source": [
    "here is module that we use in Gesture Volume Control Project"
   ]
  },
  {
   "cell_type": "code",
   "execution_count": null,
   "metadata": {},
   "outputs": [],
   "source": [
    "import cv2\n",
    "import mediapipe as mp\n",
    "import time\n",
    "class handDetector():\n",
    "    def __init__(self, mode=False, maxHands=2, modelC = 1,  detectionCon=0.5, trackCon=0.5):\n",
    "        self.mode = mode\n",
    "        self.maxHands = maxHands\n",
    "        self.modelC = modelC\n",
    "        self.detectionCon = detectionCon\n",
    "        self.trackCon = trackCon\n",
    "\n",
    "        self.mpHands = mp.solutions.hands\n",
    "        self.hands = self.mpHands.Hands(self.mode, self.maxHands, self.modelC, self.detectionCon, self.trackCon)\n",
    "        self.mpDraw = mp.solutions.drawing_utils\n",
    "\n",
    "    def findHands(self, img, draw = True):\n",
    "            imgRGB = cv2.cvtColor(img, cv2.COLOR_BGR2RGB)\n",
    "            self.results = self.hands.process(imgRGB)\n",
    "            # if hands are present  in the picture\n",
    "            if self.results.multi_hand_landmarks:\n",
    "                for handlms in self.results.multi_hand_landmarks:\n",
    "                    if draw:                      \n",
    "                        self.mpDraw.draw_landmarks(img, handlms, self.mpHands.HAND_CONNECTIONS)\n",
    "            return img\n",
    "    def findPosition(self, img, handNo=0, draw=True):\n",
    "        lmlist = []\n",
    "\n",
    "        if self.results.multi_hand_landmarks:\n",
    "            myHand = self.results.multi_hand_landmarks[handNo]\n",
    "            for id, lm in enumerate(myHand.landmark):\n",
    "                h, w, c = img.shape\n",
    "                cx, cy = int(lm.x*w), int(lm.y*h)\n",
    "                lmlist.append([id, cx, cy])\n",
    "                if draw:\n",
    "                    cv2.circle(img,(cx, cy), 15, (255, 0, 255), cv2.FILLED)\n",
    "\n",
    "        return lmlist        \n",
    "                \n",
    "                \n",
    "                \n",
    "def main():\n",
    "\n",
    "    ptime = 0\n",
    "    ctime = 0\n",
    "    cap = cv2.VideoCapture(0)\n",
    "    detector = handLM()\n",
    "\n",
    "    while True:\n",
    "        success, img=cap.read()\n",
    "        img = detector.findHands(img)\n",
    "        lmlist = detector.findPosition(img)\n",
    "        if len(lmlist) !=0:\n",
    "            print(lmlist[4])\n",
    "        ctime = time.time()\n",
    "        fps = 1/(ctime-ptime)\n",
    "        ptime = ctime\n",
    "        # cv2.putText(img, str(handlms),(10, 70),cv2.FONT_HERSHEY_PLAIN,3,(255,0,255),3)\n",
    "        cv2.putText(img, str(int(fps)), (10, 70),cv2.FONT_HERSHEY_PLAIN,3,(255,0,255),3)\n",
    "        cv2.imshow(\"image\", img)\n",
    "        cv2.waitKey(1)\n",
    "    \n",
    " \n",
    "\n",
    "\n",
    "\n",
    "\n",
    "\n",
    "\n",
    "if __name__ == \"__main__\":\n",
    "    main()"
   ]
  }
 ],
 "metadata": {
  "kernelspec": {
   "display_name": ".venv",
   "language": "python",
   "name": "python3"
  },
  "language_info": {
   "codemirror_mode": {
    "name": "ipython",
    "version": 3
   },
   "file_extension": ".py",
   "mimetype": "text/x-python",
   "name": "python",
   "nbconvert_exporter": "python",
   "pygments_lexer": "ipython3",
   "version": "3.8.8 (default, Apr 13 2021, 15:08:03) [MSC v.1916 64 bit (AMD64)]"
  },
  "orig_nbformat": 4,
  "vscode": {
   "interpreter": {
    "hash": "9549edd590dad2e47b68bb89a9110a6a20f987ff2529a71a9123232dd873c47e"
   }
  }
 },
 "nbformat": 4,
 "nbformat_minor": 2
}
