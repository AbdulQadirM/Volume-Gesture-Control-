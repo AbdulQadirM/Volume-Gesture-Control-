{
 "cells": [
  {
   "attachments": {},
   "cell_type": "markdown",
   "metadata": {},
   "source": [
    "# Gesture Volume Control Project"
   ]
  },
  {
   "attachments": {},
   "cell_type": "markdown",
   "metadata": {},
   "source": [
    "        The script is a \"Gesture Volume Control\" program that uses hand gestures captured by a camera to control the volume of the speakers. It utilizes the OpenCV library to process video frames and the handLMmodule, a custom module, to detect hands within the frames. The position of the hand is then used to control the volume of the speakers using the pycaw library"
   ]
  },
  {
   "attachments": {},
   "cell_type": "markdown",
   "metadata": {},
   "source": [
    "Here import Handlandmarks module"
   ]
  },
  {
   "cell_type": "code",
   "execution_count": null,
   "metadata": {},
   "outputs": [],
   "source": [
    "import time\n",
    "import cv2\n",
    "import numpy as  np \n",
    "import handLMmodule as htm\n",
    "import math\n",
    "from ctypes import cast, POINTER\n",
    "from comtypes import CLSCTX_ALL\n",
    "from pycaw.pycaw import AudioUtilities, IAudioEndpointVolume\n"
   ]
  },
  {
   "cell_type": "code",
   "execution_count": null,
   "metadata": {},
   "outputs": [],
   "source": [
    "######################\n",
    "wCam, hCam = 640, 480\n",
    "######################\n",
    "\n",
    "cap = cv2.VideoCapture(0)\n",
    "cap.set(3, wCam)\n",
    "cap.set(4,hCam)\n",
    "ptime = 0\n",
    "detector = htm.handDetector(detectionCon=0.7)\n",
    "\n",
    "devices = AudioUtilities.GetSpeakers()\n",
    "interface = devices.Activate(\n",
    "    IAudioEndpointVolume._iid_, CLSCTX_ALL, None)\n",
    "volume = cast(interface, POINTER(IAudioEndpointVolume))\n",
    "# volume.GetMute()\n",
    "# volume.GetMasterVolumeLevel()\n",
    "volRange = volume.GetVolumeRange()\n",
    "\n",
    "minVol = volRange[0]\n",
    "maxVol = volRange[1]\n",
    "vol = 0\n",
    "volBar = 400\n",
    "volPer = 0"
   ]
  },
  {
   "attachments": {},
   "cell_type": "markdown",
   "metadata": {},
   "source": [
    "inds the position of the hand, and uses the position to control the volume of the speakers using the pycaw library. It also displays a volume bar and percentage on the screen, and a circle on the center of the hand to indicate the volume level. "
   ]
  },
  {
   "cell_type": "code",
   "execution_count": null,
   "metadata": {},
   "outputs": [],
   "source": [
    "while True:\n",
    "    success, img=cap.read()\n",
    "    img = detector.findHands(img)\n",
    "    lmlist = detector.findPosition(img, draw=False)\n",
    "    if len(lmlist) !=0:    \n",
    "        # print(lmlist[4], lmlist[8])\n",
    "\n",
    "        x1, y1 = lmlist[4][1], lmlist[4][2]\n",
    "        x2, y2 = lmlist[8][1], lmlist[8][2]\n",
    "        cx, cy = (x1+x2) // 2, (y1+y2) // 2\n",
    "\n",
    "        \n",
    "        cv2.circle(img, (x1,y1), 10,(255, 0, 255), cv2.FILLED)\n",
    "        cv2.circle(img, (x2,y2), 10, (255, 0, 255), cv2.FILLED)\n",
    "        cv2.line(img, (x1, y1), (x2, y2), (255, 0, 255), 3)\n",
    "        cv2.circle(img, (cx, cy), 10, (255, 0, 255), cv2.FILLED)\n",
    "\n",
    "        length = math.hypot(x2-x1, y2-y1)\n",
    "        # print(length)\n",
    "\n",
    "        # Hand Range 30 to 200\n",
    "        # volume range -65 to 0\n",
    "        vol = np.interp(length, [30, 250], [minVol, maxVol])\n",
    "        volBar = np.interp(length, [30, 250], [400, 150])\n",
    "        volPer = np.interp(length, [30, 250], [0, 100])\n",
    "        print(int(length), vol)\n",
    "        volume.SetMasterVolumeLevel(vol, None)\n",
    "\n",
    "        if length <=50:\n",
    "            cv2.circle(img, (cx, cy), 10, (0, 255, 0), cv2.FILLED)\n",
    "\n",
    "    cv2.rectangle(img, (50, 150), (85, 400), (255, 0, 0), 3)\n",
    "    cv2.rectangle(img, (50, int(volBar)), (85, 400), (255, 0, 0), cv2.FILLED)\n",
    "    cv2.putText(img, f'per:{(int(volPer))}%', (90, 410), cv2.FONT_HERSHEY_PLAIN, 2, (255, 0,  0), 2)      \n"
   ]
  },
  {
   "cell_type": "code",
   "execution_count": null,
   "metadata": {},
   "outputs": [],
   "source": [
    "   ctime = time.time()\n",
    "    fps = 1 / (ctime-ptime)\n",
    "    ptime = ctime\n",
    "    # cv2.putText(img, f'fps:{(int(fps))}', (70, 30), cv2.FONT_HERSHEY_PLAIN, 2, (0, 255, 0), 2)\n",
    "    cv2.imshow('image', img)\n",
    "    cv2.waitKey(1)"
   ]
  }
 ],
 "metadata": {
  "kernelspec": {
   "display_name": ".venv",
   "language": "python",
   "name": "python3"
  },
  "language_info": {
   "codemirror_mode": {
    "name": "ipython",
    "version": 3
   },
   "file_extension": ".py",
   "mimetype": "text/x-python",
   "name": "python",
   "nbconvert_exporter": "python",
   "pygments_lexer": "ipython3",
   "version": "3.8.8"
  },
  "orig_nbformat": 4,
  "vscode": {
   "interpreter": {
    "hash": "9549edd590dad2e47b68bb89a9110a6a20f987ff2529a71a9123232dd873c47e"
   }
  }
 },
 "nbformat": 4,
 "nbformat_minor": 2
}
